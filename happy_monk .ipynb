{
 "cells": [
  {
   "cell_type": "markdown",
   "id": "8d9d9781",
   "metadata": {},
   "source": [
    "ASSESSMENT\n",
    "12/7/2023"
   ]
  },
  {
   "cell_type": "markdown",
   "id": "4a9beb0f",
   "metadata": {},
   "source": [
    "1. Write a program in Python to find the sum of digits of a number using recursion?"
   ]
  },
  {
   "cell_type": "code",
   "execution_count": 2,
   "id": "f19f43c3",
   "metadata": {},
   "outputs": [
    {
     "name": "stdout",
     "output_type": "stream",
     "text": [
      "Enter a number: 19\n",
      "Sum of digits: 10\n"
     ]
    }
   ],
   "source": [
    "def sum_of_digits(number):\n",
    "    # Base case: If the number is a single digit, return the number itself\n",
    "    if number // 10 == 0:\n",
    "        return number\n",
    "    \n",
    "    # Recursive case: Find the sum of the last digit and the sum of the remaining digits\n",
    "    last_digit = number % 10\n",
    "    remaining_digits = number // 10\n",
    "    return last_digit + sum_of_digits(remaining_digits)\n",
    "\n",
    "# Test the function\n",
    "number = int(input(\"Enter a number: \"))\n",
    "result = sum_of_digits(number)\n",
    "print(\"Sum of digits:\", result)"
   ]
  },
  {
   "cell_type": "markdown",
   "id": "98ce8264",
   "metadata": {},
   "source": [
    "2. Write a program in Python to swap two numbers without using a third variable?"
   ]
  },
  {
   "cell_type": "code",
   "execution_count": 3,
   "id": "9bc73727",
   "metadata": {},
   "outputs": [],
   "source": [
    "def swapno(a,b):\n",
    "    a,b=b,a\n",
    "    return a,b"
   ]
  },
  {
   "cell_type": "code",
   "execution_count": 4,
   "id": "47e639b5",
   "metadata": {},
   "outputs": [],
   "source": [
    "a,b=4,5"
   ]
  },
  {
   "cell_type": "code",
   "execution_count": 5,
   "id": "dc35fb0c",
   "metadata": {},
   "outputs": [
    {
     "data": {
      "text/plain": [
       "(5, 4)"
      ]
     },
     "execution_count": 5,
     "metadata": {},
     "output_type": "execute_result"
    }
   ],
   "source": [
    "swapno(a,b)"
   ]
  },
  {
   "cell_type": "markdown",
   "id": "784b7fd6",
   "metadata": {},
   "source": [
    "3. Python Program to count occurrences of a character in below string and create a dictionary with keys as\n",
    "letters and values as count of occurrences of that letter."
   ]
  },
  {
   "cell_type": "markdown",
   "id": "a12ec998",
   "metadata": {},
   "source": [
    "“fhdflshbfslkhfbslkfbhslfjhbsdvsJKBEFWEGWUYRTWGRUWOFWGEUIFBWDFWDBFHWJDVFHJ\n",
    "Kasdwtuknfiitngjt75378595hf75hr74h”"
   ]
  },
  {
   "cell_type": "code",
   "execution_count": 6,
   "id": "231cc921",
   "metadata": {},
   "outputs": [
    {
     "name": "stdout",
     "output_type": "stream",
     "text": [
      "{'f': 8, 'h': 8, 'd': 3, 'l': 4, 's': 7, 'b': 4, 'k': 3, 'j': 2, 'v': 1, 'J': 3, 'K': 2, 'B': 3, 'E': 3, 'F': 6, 'W': 8, 'G': 3, 'U': 3, 'Y': 1, 'R': 2, 'T': 1, 'O': 1, 'I': 1, 'D': 3, 'H': 2, 'V': 1, ' ': 1, 'a': 1, 'w': 1, 't': 3, 'u': 1, 'n': 2, 'i': 2, 'g': 1, '7': 4, '5': 4, '3': 1, '8': 1, '9': 1, 'r': 1, '4': 1}\n"
     ]
    }
   ],
   "source": [
    "def count_occurrences(string):\n",
    "    char_count = {}\n",
    "    for char in string:\n",
    "        char_count[char] = char_count.get(char, 0) + 1\n",
    "    return char_count\n",
    "\n",
    "# Test the function\n",
    "string = 'fhdflshbfslkhfbslkfbhslfjhbsdvsJKBEFWEGWUYRTWGRUWOFWGEUIFBWDFWDBFHWJDVFHJ Kasdwtuknfiitngjt75378595hf75hr74h'\n",
    "occurrences = count_occurrences(string)\n",
    "print(occurrences)"
   ]
  },
  {
   "cell_type": "markdown",
   "id": "ef25b36d",
   "metadata": {},
   "source": [
    "4. Write a python program to find the transpose of an image without any inbuilt functions or packages."
   ]
  },
  {
   "cell_type": "code",
   "execution_count": 7,
   "id": "b64a43cf",
   "metadata": {},
   "outputs": [
    {
     "name": "stdout",
     "output_type": "stream",
     "text": [
      "[1, 4, 7]\n",
      "[2, 5, 8]\n",
      "[3, 6, 9]\n"
     ]
    }
   ],
   "source": [
    "def transpose_image(image):\n",
    "    rows = len(image)\n",
    "    cols = len(image[0])\n",
    "\n",
    "    transposed_image = [[0 for _ in range(rows)] for _ in range(cols)]\n",
    "\n",
    "    for i in range(rows):\n",
    "        for j in range(cols):\n",
    "            transposed_image[j][i] = image[i][j]\n",
    "\n",
    "    return transposed_image\n",
    "\n",
    "# Test the function\n",
    "image = [\n",
    "    [1, 2, 3],\n",
    "    [4, 5, 6],\n",
    "    [7, 8, 9]\n",
    "]\n",
    "\n",
    "transposed = transpose_image(image)\n",
    "for row in transposed:\n",
    "    print(row)"
   ]
  },
  {
   "cell_type": "markdown",
   "id": "59047a60",
   "metadata": {},
   "source": [
    "6. variable=[\"Bus\", \"car\", {\"Bus\":[\"car\", \"bus\", {\"car\":\"bus\", \"Car\":[\"bus\", \"car\", [\"BMW\"]],\n",
    "},\"Bus\"]},\"Bus\"]\n",
    "print BMW as a string output"
   ]
  },
  {
   "cell_type": "code",
   "execution_count": 13,
   "id": "a41f8af6",
   "metadata": {},
   "outputs": [
    {
     "name": "stdout",
     "output_type": "stream",
     "text": [
      "BMW\n"
     ]
    }
   ],
   "source": [
    "variable=[\"Bus\", \"car\", {\"Bus\":[\"car\", \"bus\", {\"car\":\"bus\", \"Car\":[\"bus\", \"car\", [\"BMW\"]], },\"Bus\"]},\"Bus\"]\n",
    "\n",
    "bmw_string = variable[2][\"Bus\"][2][\"Car\"][2][0]\n",
    "print(bmw_string)"
   ]
  },
  {
   "cell_type": "markdown",
   "id": "e66d9c78",
   "metadata": {},
   "source": [
    "### PROBLEM STATEMENT 1"
   ]
  },
  {
   "cell_type": "markdown",
   "id": "a4c8ffc1",
   "metadata": {},
   "source": [
    "Results.json contains information about videos.\n",
    "Each video contains many frames(with consecutive order\n",
    "Each frame contains information like\n",
    "1. Person count\n",
    "2. Vehicle count\n",
    "3. Frame time\n",
    "4. id\n",
    "5. Face data\n",
    "\n",
    "Face data in each frame explains the information about persons who got detected.\n",
    "Each person belongs to a category.\n",
    "QUESTIONS\n",
    "Read and load the results.json using python scripts.\n",
    "Write a script encode and decode the json\n",
    "Find the total number of videos in json.\n",
    "Find how many frames are there for each video and Find the missing frame in each video(if any).\n",
    "Find the maximum number of vehicles in each video.\n",
    "Find the maximum number of people in each video.\n",
    "Find the number of categories of people and list the categories.\n",
    "Find the people belonging to each category"
   ]
  },
  {
   "cell_type": "code",
   "execution_count": 15,
   "id": "a32754d7",
   "metadata": {},
   "outputs": [],
   "source": [
    "import json"
   ]
  },
  {
   "cell_type": "code",
   "execution_count": 21,
   "id": "3f2dd50e",
   "metadata": {},
   "outputs": [],
   "source": [
    "with open(r\"C:\\Users\\23ady\\Downloads\\results (1) (1).json\") as json_file:\n",
    "    data = json.load(json_file)"
   ]
  },
  {
   "cell_type": "code",
   "execution_count": 22,
   "id": "868d44ee",
   "metadata": {},
   "outputs": [],
   "source": [
    "encoded_json = json.dumps(data)  # Encode JSON to a string\n",
    "decoded_json = json.loads(encoded_json)  # Decode JSON string to a Python object"
   ]
  },
  {
   "cell_type": "code",
   "execution_count": 23,
   "id": "42a71702",
   "metadata": {},
   "outputs": [],
   "source": [
    "# Find the total number of videos\n",
    "total_videos = len(data)"
   ]
  },
  {
   "cell_type": "code",
   "execution_count": 45,
   "id": "85c80383",
   "metadata": {},
   "outputs": [
    {
     "name": "stdout",
     "output_type": "stream",
     "text": [
      "Video 36: 43 frames\n",
      "Missing frames: [14]\n",
      "\n",
      "Video 18: 43 frames\n",
      "Missing frames: [15]\n",
      "\n",
      "Video 8: 43 frames\n",
      "Missing frames: [16]\n",
      "\n",
      "Video 1: 43 frames\n",
      "Missing frames: [19]\n",
      "\n"
     ]
    }
   ],
   "source": [
    "total_videos = len(data.keys())\n",
    "\n",
    "# Find the number of frames for each video and identify any missing frames\n",
    "for video_id, video_data in data.items():\n",
    "    frames = len(video_data.keys())\n",
    "    missing_frames = []\n",
    "    for frame_id in range(1, frames + 1):\n",
    "        if str(frame_id) not in video_data:\n",
    "            missing_frames.append(frame_id)\n",
    "\n",
    "    print(f\"Video {video_id}: {frames} frames\")\n",
    "    if missing_frames:\n",
    "        print(f\"Missing frames: {missing_frames}\")\n",
    "    print()"
   ]
  },
  {
   "cell_type": "code",
   "execution_count": 47,
   "id": "a80ee385",
   "metadata": {},
   "outputs": [
    {
     "name": "stdout",
     "output_type": "stream",
     "text": [
      "Video 36:\n",
      "Maximum number of vehicles: 3\n",
      "Maximum number of people: 4\n",
      "\n",
      "Video 18:\n",
      "Maximum number of vehicles: 5\n",
      "Maximum number of people: 2\n",
      "\n",
      "Video 8:\n",
      "Maximum number of vehicles: 10\n",
      "Maximum number of people: 2\n",
      "\n",
      "Video 1:\n",
      "Maximum number of vehicles: 19\n",
      "Maximum number of people: 2\n",
      "\n"
     ]
    }
   ],
   "source": [
    "# Find the maximum number of vehicles and people in each video\n",
    "for video_id, video_data in data.items():\n",
    "    max_vehicles = 0\n",
    "    max_people = 0\n",
    "\n",
    "    for frame_data in video_data.values():\n",
    "        vehicle_count = frame_data['vehicle_count']\n",
    "        person_count = frame_data['person_count']\n",
    "\n",
    "        if vehicle_count > max_vehicles:\n",
    "            max_vehicles = vehicle_count\n",
    "        if person_count > max_people:\n",
    "            max_people = person_count\n",
    "\n",
    "    print(f\"Video {video_id}:\")\n",
    "    print(f\"Maximum number of vehicles: {max_vehicles}\")\n",
    "    print(f\"Maximum number of people: {max_people}\")\n",
    "    print()"
   ]
  },
  {
   "cell_type": "code",
   "execution_count": 48,
   "id": "e713dd82",
   "metadata": {},
   "outputs": [
    {
     "name": "stdout",
     "output_type": "stream",
     "text": [
      "Number of categories of people: 2\n",
      "Categories: \n",
      "known_blacklist\n",
      "known_whitelist\n"
     ]
    }
   ],
   "source": [
    "# Find the number of categories of people and list the categories\n",
    "categories = set()\n",
    "for video_data in data.values():\n",
    "    for frame_data in video_data.values():\n",
    "        faces_data = frame_data['faces_data']\n",
    "        for face_info in faces_data.values():\n",
    "            categories.add(face_info['type'])\n",
    "\n",
    "num_categories = len(categories)\n",
    "print(f\"Number of categories of people: {num_categories}\")\n",
    "print(\"Categories: \")\n",
    "for category in categories:\n",
    "    print(category)"
   ]
  },
  {
   "cell_type": "code",
   "execution_count": 49,
   "id": "ff92d777",
   "metadata": {},
   "outputs": [
    {
     "name": "stdout",
     "output_type": "stream",
     "text": [
      "\n",
      "People belonging to each category:\n",
      "Category: known_whitelist\n",
      "People: 00Rashmi, 00Krishani, 00Sri, 00Krishani, 00Rashmi, 00Sri, 00Rashmi, 00Krishani, 00Sri_Hari, 00Rashmi, 00Krishani, 00Sri_Hari, 00Rashmi, 00Krishani, 00Sri, 00Rashmi, 00Sri_Hari, 00Krishani, 00Rashmi, 00Sri_Hari, 00Krishani, 00Rashmi, 00Krishani, 00Sri_Hari, 00Rashmi, 00Krishani, 00Sri_Hari, 00Rashmi, 00Krishani, 00Sri, 00Rashmi, 00Krishani, 00Sri_Hari, 00Rashmi, 00Krishani, 00Sri_Hari, 00Rashmi, 00Sri_Hari, 00Krishani, 00Rashmi, 00Sri_Hari, 00Krishani, 00Rashmi, 00Sri, 00Krishani, 00Rashmi, 00Sri_Hari, 00Krishani, 00Rashmi, 00Sri_Hari, 00Rashmi, 00Sri_Hari, 00Rashmi, 00Sri_Hari, 00Krishani, 00Rashmi, 00Sri_Hari, 00Krishani, 00Rashmi, 00Sri_Hari, 00Krishani, 00Rashmi, 00Sri_Hari, 00Krishani, 00Rashmi, 00Sri_Hari, 00Krishani, 00Rashmi, 00Sri_Hari, 00Krishani, 00Rashmi, 00Sri_Hari, 00Krishani, 00Rashmi, 00Sri_Hari, 00Krishani, 00Rashmi, 00Sri_Hari, 00Krishani, 00Rashmi, 00Sri_Hari, 00Krishani, 00Rashmi, 00Sri_Hari, 00Krishani, 00Rashmi, 00Sri_Hari, 00Krishani, 00Rashmi, 00Sri, 00Krishani, 00Rashmi, 00Sri_Hari, 00Krishani, 00Rashmi, 00Sri_Hari, 00Krishani, 00Rashmi, 00Sri_Hari, 00Krishani, 00Rashmi, 00Sri_Hari, 00Sri_Hari, 00Rashmi, 00Krishani, 00Krishani, 00Rashmi, 00Sri_Hari, 00Krishani, 00Rashmi, 00Sri_Hari, 00Rashmi, 00Krishani, 00Sri_Hari, 00Krishani, 00Rashmi, 00Sri_Hari, 00Rashmi, 00Sri_Hari, 00Krishani, 00Rashmi, 00Sri_Hari, 00Krishani, 00Sri, 00Krishani, 00Rashmi, 00Krishani, 00Sri_Hari, 00Rashmi, 00Sri_Hari, 00Rashmi, 00Krishani, 00Sri_Hari, 00Rashmi, 00Krishani, 00Sri_Hari, 00Rashmi, 00Krishani, 00Sri_Hari, 00Rashmi, 00Sri_Hari, 00Krishani, 00Rashmi, 00Sri_Hari, 00Krishani, 00Rashmi, 00Krishani, 00Sri_Hari, 00Rashmi, 00Sri, 00Rashmi, 00Krishani, 00Sri_Hari, 00Rashmi, 00Krishani, 00Sri_Hari, 00Rashmi, 00Sri, 00Rashmi, 00Sri_Hari, 00Krishani, 00Rashmi, 00Sri_Hari, 00Krishani, 00Rashmi, 00Sri_Hari, 00Krishani, 00Rashmi, 00Sri, 00Krishani, 00Rashmi, 00Sri_Hari, 00Rashmi, 00Sri_Hari, 00Rashmi, 00Sri_Hari, 00Krishani, 00Rashmi, 00Sri_Hari, 00Krishani, 00Rashmi, 00Sri_Hari, 00Krishani, 00Rashmi, 00Sri_Hari, 00Krishani, 00Rashmi, 00Sri, 00Krishani, 00Rashmi, 00Sri, 00Krishani, 00Rashmi, 00Sri, 00Krishani, 00Rashmi, 00Sri_Hari, 00Krishani, 00Rashmi, 00Sri_Hari, 00Krishani, 00Rashmi, 00Sri_Hari, 00Krishani, 00Rashmi, 00Sri_Hari, 00Krishani, 00Rashmi, 00Sri_Hari, 00Krishani, 00Rashmi, 00Sri_Hari, 00Krishani, 00Rashmi, 00Sri_Hari, 00Krishani, 00Rashmi, 00Sri_Hari, 00Krishani, 00Rashmi, 00Sri_Hari, 00Krishani, 00Rashmi, 00Sri_Hari, 00Sri_Hari, 00Rashmi, 00Krishani, 00Krishani, 00Rashmi, 00Sri_Hari, 00Krishani, 00Rashmi, 00Sri_Hari, 00Rashmi, 00Krishani, 00Sri_Hari, 00Krishani, 00Rashmi, 00Sri_Hari, 00Rashmi, 00Sri_Hari, 00Krishani, 00Rashmi, 00Sri_Hari, 00Krishani, 00Rashmi, 00Sri_Hari, 00Krishani, 00Rashmi, 00Krishani, 00Sri_Hari, 00Krishani, 00Rashmi, 00Sri_Hari, 00Rashmi, 00Krishani, 00Sri_Hari, 00Rashmi, 00Krishani, 00Sri_Hari, 00Rashmi, 00Krishani, 00Sri_Hari, 00Rashmi, 00Sri_Hari, 00Krishani, 00Rashmi, 00Sri_Hari, 00Krishani, 00Rashmi, 00Krishani, 00Sri_Hari, 00Rashmi, 00Krishani, 00Sri_Hari, 00Rashmi, 00Krishani, 00Sri_Hari, 00Rashmi, 00Krishani, 00Sri_Hari, 00Rashmi, 00Krishani, 00Sri_Hari, 00Rashmi, 00Sri_Hari, 00Krishani, 00Rashmi, 00Krishani, 00Rashmi, 00Sri_Hari, 00Krishani, 00Rashmi, 00Sri_Hari, 00Krishani, 00Rashmi, 00Sri_Hari, 00Rashmi, 00Sri_Hari, 00Rashmi, 00Sri_Hari, 00Krishani, 00Rashmi, 00Sri_Hari, 00Krishani, 00Rashmi, 00Sri_Hari, 00Krishani, 00Rashmi, 00Sri_Hari, 00Krishani, 00Rashmi, 00Sri_Hari, 00Krishani, 00Rashmi, 00Sri_Hari, 00Krishani, 00Rashmi, 00Sri_Hari, 00Krishani, 00Rashmi, 00Sri_Hari, 00Krishani, 00Rashmi, 00Sri_Hari, 00Krishani, 00Rashmi, 00Sri_Hari, 00Krishani, 00Rashmi, 00Sri_Hari, 00Krishani, 00Rashmi, 00Sri_Hari, 00Krishani, 00Rashmi, 00Sri_Hari, 00Krishani, 00Rashmi, 00Sri_Hari, 00Krishani, 00Rashmi, 00Sri_Hari, 00Krishani, 00Rashmi, 00Sri_Hari, 00Krishani, 00Rashmi, 00Sri_Hari, 00Sri_Hari, 00Rashmi, 00Krishani, 00Krishani, 00Rashmi, 00Sri_Hari, 00Krishani, 00Rashmi, 00Sri_Hari, 00Rashmi, 00Krishani, 00Sri_Hari, 00Krishani, 00Rashmi, 00Sri_Hari, 00Rashmi, 00Sri_Hari, 00Krishani, 00Rashmi, 00Sri_Hari, 00Krishani, 00Rashmi, 00Sri_Hari, 00Krishani, 00Rashmi, 00Krishani, 00Sri_Hari, 00Krishani, 00Rashmi, 00Sri_Hari, 00Rashmi, 00Krishani, 00Sri_Hari, 00Rashmi, 00Krishani, 00Sri_Hari, 00Rashmi, 00Krishani, 00Sri_Hari, 00Rashmi, 00Sri_Hari, 00Krishani, 00Rashmi, 00Sri_Hari, 00Krishani, 00Rashmi, 00Krishani, 00Sri_Hari, 00Rashmi, 00Krishani, 00Sri_Hari, 00Rashmi, 00Krishani, 00Sri_Hari, 00Rashmi, 00Krishani, 00Sri_Hari, 00Rashmi, 00Krishani, 00Sri_Hari, 00Rashmi, 00Sri_Hari, 00Krishani, 00Rashmi, 00Sri_Hari, 00Krishani, 00Rashmi, 00Sri_Hari, 00Krishani, 00Rashmi, 00Sri_Hari, 00Krishani, 00Rashmi, 00Sri, 00Krishani, 00Rashmi, 00Sri_Hari, 00Rashmi, 00Sri_Hari, 00Krishani, 00Rashmi, 00Sri_Hari, 00Krishani, 00Rashmi, 00Sri_Hari, 00Krishani, 00Sri_Hari, 00Krishani, 00Rashmi, 00Sri_Hari, 00Krishani, 00Rashmi, 00Sri_Hari, 00Krishani, 00Rashmi, 00Sri_Hari, 00Krishani, 00Rashmi, 00Sri_Hari, 00Krishani, 00Rashmi, 00Sri_Hari, 00Krishani, 00Rashmi, 00Sri_Hari, 00Krishani, 00Rashmi, 00Sri_Hari, 00Krishani, 00Rashmi, 00Sri_Hari, 00Krishani, 00Rashmi, 00Sri_Hari, 00Rashmi, 00Sri, 00Krishani, 00Rashmi, 00Sri_Hari, 00Krishani, 00Rashmi, 00Sri_Hari, 00Krishani, 00Rashmi, 00Sri_Hari, 00Sri_Hari, 00Rashmi, 00Krishani, 00Krishani, 00Rashmi, 00Sri_Hari, 00Krishani, 00Rashmi, 00Sri_Hari, 00Rashmi, 00Krishani, 00Sri_Hari, 00Krishani, 00Rashmi, 00Sri_Hari, 00Rashmi, 00Sri, 00Krishani, 00Rashmi, 00Sri_Hari, 00Krishani, 00Rashmi, 00Sri_Hari, 00Krishani\n",
      "\n",
      "Category: known_blacklist\n",
      "People: 00Sri_Nithi\n",
      "\n"
     ]
    }
   ],
   "source": [
    "# Find the people belonging to each category\n",
    "people_by_category = {}\n",
    "for video_data in data.values():\n",
    "    for frame_data in video_data.values():\n",
    "        faces_data = frame_data['faces_data']\n",
    "        for person_name, face_info in faces_data.items():\n",
    "            category = face_info['type']\n",
    "            if category in people_by_category:\n",
    "                people_by_category[category].append(person_name)\n",
    "            else:\n",
    "                people_by_category[category] = [person_name]\n",
    "\n",
    "print(\"\\nPeople belonging to each category:\")\n",
    "for category, people in people_by_category.items():\n",
    "    print(f\"Category: {category}\")\n",
    "    print(\"People: \", end=\"\")\n",
    "    print(*people, sep=\", \")\n",
    "    print()"
   ]
  },
  {
   "cell_type": "markdown",
   "id": "4163e58b",
   "metadata": {},
   "source": [
    "### Problem Statement 2"
   ]
  },
  {
   "cell_type": "markdown",
   "id": "11f58b81",
   "metadata": {},
   "source": [
    "https://jsonplaceholder.typicode.com/todos\n",
    "From the above API URL, you have to request and load the JSON data.\n",
    "The json contains\n",
    "1. User id - which indicates one user\n",
    "2. ID - task id\n",
    "3. Title - task title\n",
    "4. Completed - completed or not completed\n",
    "QUESTIONS\n",
    "Write a script encode and decode the json\n",
    "Find the number of users\n",
    "Find number of tasks for each users\n",
    "Find the number of completed and incomplete tasks for each users and rank them"
   ]
  },
  {
   "cell_type": "code",
   "execution_count": 51,
   "id": "9e4a5dca",
   "metadata": {},
   "outputs": [],
   "source": [
    "import requests"
   ]
  },
  {
   "cell_type": "code",
   "execution_count": 52,
   "id": "75edd2f7",
   "metadata": {},
   "outputs": [],
   "source": [
    "response = requests.get('https://jsonplaceholder.typicode.com/todos')\n",
    "data = json.loads(response.text)"
   ]
  },
  {
   "cell_type": "code",
   "execution_count": 53,
   "id": "93a8e64e",
   "metadata": {},
   "outputs": [],
   "source": [
    "encoded_json = json.dumps(data)  # Encode JSON to string\n",
    "decoded_json = json.loads(encoded_json)  # Decode JSON from string"
   ]
  },
  {
   "cell_type": "code",
   "execution_count": 54,
   "id": "d52b4a17",
   "metadata": {},
   "outputs": [
    {
     "name": "stdout",
     "output_type": "stream",
     "text": [
      "Number of users: 10\n"
     ]
    }
   ],
   "source": [
    "# Find the number of users\n",
    "users = set()\n",
    "for task in data:\n",
    "    users.add(task['userId'])\n",
    "num_users = len(users)\n",
    "\n",
    "print(f\"Number of users: {num_users}\")"
   ]
  },
  {
   "cell_type": "code",
   "execution_count": 55,
   "id": "3542b7db",
   "metadata": {},
   "outputs": [
    {
     "name": "stdout",
     "output_type": "stream",
     "text": [
      "Number of tasks for each user:\n",
      "User 1: 20 tasks\n",
      "User 2: 20 tasks\n",
      "User 3: 20 tasks\n",
      "User 4: 20 tasks\n",
      "User 5: 20 tasks\n",
      "User 6: 20 tasks\n",
      "User 7: 20 tasks\n",
      "User 8: 20 tasks\n",
      "User 9: 20 tasks\n",
      "User 10: 20 tasks\n"
     ]
    }
   ],
   "source": [
    "# Find the number of tasks for each user\n",
    "tasks_per_user = {}\n",
    "for task in data:\n",
    "    user_id = task['userId']\n",
    "    if user_id in tasks_per_user:\n",
    "        tasks_per_user[user_id] += 1\n",
    "    else:\n",
    "        tasks_per_user[user_id] = 1\n",
    "\n",
    "print(\"Number of tasks for each user:\")\n",
    "for user_id, num_tasks in tasks_per_user.items():\n",
    "    print(f\"User {user_id}: {num_tasks} tasks\")"
   ]
  },
  {
   "cell_type": "code",
   "execution_count": 56,
   "id": "0e69839e",
   "metadata": {},
   "outputs": [],
   "source": [
    "# Find the number of completed and incomplete tasks for each user and rank them\n",
    "completed_tasks_per_user = {}\n",
    "incomplete_tasks_per_user = {}\n",
    "for task in data:\n",
    "    user_id = task['userId']\n",
    "    completed = task['completed']\n",
    "\n",
    "    if completed:\n",
    "        if user_id in completed_tasks_per_user:\n",
    "            completed_tasks_per_user[user_id] += 1\n",
    "        else:\n",
    "            completed_tasks_per_user[user_id] = 1\n",
    "    else:\n",
    "        if user_id in incomplete_tasks_per_user:\n",
    "            incomplete_tasks_per_user[user_id] += 1\n",
    "        else:\n",
    "            incomplete_tasks_per_user[user_id] = 1"
   ]
  },
  {
   "cell_type": "code",
   "execution_count": 57,
   "id": "f5f6e4fd",
   "metadata": {},
   "outputs": [],
   "source": [
    "# Rank users based on the number of completed tasks\n",
    "ranked_users = sorted(completed_tasks_per_user, key=completed_tasks_per_user.get, reverse=True)"
   ]
  },
  {
   "cell_type": "code",
   "execution_count": 58,
   "id": "920e0f3b",
   "metadata": {},
   "outputs": [
    {
     "name": "stdout",
     "output_type": "stream",
     "text": [
      "Ranking of users based on completed tasks:\n",
      "Rank 1: User 5\n",
      "Completed tasks: 12\n",
      "Incomplete tasks: 8\n",
      "\n",
      "Rank 2: User 10\n",
      "Completed tasks: 12\n",
      "Incomplete tasks: 8\n",
      "\n",
      "Rank 3: User 1\n",
      "Completed tasks: 11\n",
      "Incomplete tasks: 9\n",
      "\n",
      "Rank 4: User 8\n",
      "Completed tasks: 11\n",
      "Incomplete tasks: 9\n",
      "\n",
      "Rank 5: User 7\n",
      "Completed tasks: 9\n",
      "Incomplete tasks: 11\n",
      "\n",
      "Rank 6: User 2\n",
      "Completed tasks: 8\n",
      "Incomplete tasks: 12\n",
      "\n",
      "Rank 7: User 9\n",
      "Completed tasks: 8\n",
      "Incomplete tasks: 12\n",
      "\n",
      "Rank 8: User 3\n",
      "Completed tasks: 7\n",
      "Incomplete tasks: 13\n",
      "\n",
      "Rank 9: User 4\n",
      "Completed tasks: 6\n",
      "Incomplete tasks: 14\n",
      "\n",
      "Rank 10: User 6\n",
      "Completed tasks: 6\n",
      "Incomplete tasks: 14\n",
      "\n"
     ]
    }
   ],
   "source": [
    "print(\"Ranking of users based on completed tasks:\")\n",
    "for rank, user_id in enumerate(ranked_users, start=1):\n",
    "    num_completed_tasks = completed_tasks_per_user[user_id]\n",
    "    num_incomplete_tasks = incomplete_tasks_per_user.get(user_id, 0)\n",
    "    print(f\"Rank {rank}: User {user_id}\")\n",
    "    print(f\"Completed tasks: {num_completed_tasks}\")\n",
    "    print(f\"Incomplete tasks: {num_incomplete_tasks}\")\n",
    "    print()"
   ]
  },
  {
   "cell_type": "markdown",
   "id": "c28ac75c",
   "metadata": {},
   "source": [
    "### PROBLEM STATEMENT 3"
   ]
  },
  {
   "cell_type": "markdown",
   "id": "602d0157",
   "metadata": {},
   "source": [
    "Connect your mobile phone as your webcam and fetch frames from it\n",
    "\n",
    "QUESTIONS:\n",
    "    \n",
    "A. Calculate the frame timestamp, fps and their latency.\n",
    "\n",
    "B. Write a code that reconnects automatically when the camera goes down. (Print a log info stating\n",
    "the amount of time the camera went offline. The no. of attempts happened for reconnection)\n",
    "\n",
    "C. Write an event based programming that triggers an alert message whenever a camera goes offline."
   ]
  },
  {
   "cell_type": "code",
   "execution_count": null,
   "id": "9a34344e",
   "metadata": {},
   "outputs": [],
   "source": []
  }
 ],
 "metadata": {
  "kernelspec": {
   "display_name": "Python 3 (ipykernel)",
   "language": "python",
   "name": "python3"
  },
  "language_info": {
   "codemirror_mode": {
    "name": "ipython",
    "version": 3
   },
   "file_extension": ".py",
   "mimetype": "text/x-python",
   "name": "python",
   "nbconvert_exporter": "python",
   "pygments_lexer": "ipython3",
   "version": "3.9.13"
  }
 },
 "nbformat": 4,
 "nbformat_minor": 5
}
